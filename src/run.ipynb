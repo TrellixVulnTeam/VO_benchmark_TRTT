{
 "cells": [
  {
   "cell_type": "markdown",
   "id": "falling-tender",
   "metadata": {},
   "source": [
    "## Setup"
   ]
  },
  {
   "cell_type": "code",
   "execution_count": 1,
   "id": "conscious-junction",
   "metadata": {},
   "outputs": [
    {
     "name": "stdout",
     "output_type": "stream",
     "text": [
      "\u001b[33m WARNING: cannot import GeodescFeature2D from feature_geodesc, check the file TROUBLESHOOTING.md\n",
      "\u001b[0m\u001b[33m WARNING: cannot import DelfFeature2D from feature_delf, check the file TROUBLESHOOTING.md\n",
      "\u001b[0m\u001b[33m WARNING: cannot import ContextDescFeature2D from feature_contextdesc, check the file TROUBLESHOOTING.md\n",
      "\u001b[0m\u001b[33m WARNING: cannot import LfNetFeature2D from feature_lfnet, check the file TROUBLESHOOTING.md\n",
      "\u001b[0m\u001b[33m WARNING: cannot import KeyNetDescFeature2D from feature_keynet, check the file TROUBLESHOOTING.md\n",
      "\u001b[0m"
     ]
    }
   ],
   "source": [
    "import os\n",
    "import sys\n",
    "import cv2\n",
    "import math\n",
    "import numpy as np\n",
    "\n",
    "sys.path.append('../pyslam/')\n",
    "from config import Config\n",
    "from visual_odometry import VisualOdometry\n",
    "from camera  import PinholeCamera\n",
    "from ground_truth import groundtruth_factory\n",
    "from dataset import dataset_factory\n",
    "import matplotlib.pyplot as plt\n",
    "from glob import glob\n",
    "\n",
    "from feature_tracker import feature_tracker_factory, FeatureTrackerTypes \n",
    "from feature_manager import feature_manager_factory\n",
    "from feature_types import FeatureDetectorTypes, FeatureDescriptorTypes, FeatureInfo\n",
    "from feature_matcher import feature_matcher_factory, FeatureMatcherTypes\n",
    "from tqdm import tqdm\n",
    "from feature_tracker_configs import FeatureTrackerConfigs\n",
    "%matplotlib inline"
   ]
  },
  {
   "cell_type": "markdown",
   "id": "allied-tattoo",
   "metadata": {},
   "source": [
    "## Visual Odometry"
   ]
  },
  {
   "cell_type": "code",
   "execution_count": 2,
   "id": "sharing-majority",
   "metadata": {},
   "outputs": [
    {
     "data": {
      "text/plain": [
       "['06', '08', '04', '07', '03', '00', '09', '02', '05', '01']"
      ]
     },
     "execution_count": 2,
     "metadata": {},
     "output_type": "execute_result"
    }
   ],
   "source": [
    "folders = os.listdir('../data/dataset/sequences/')\n",
    "folders"
   ]
  },
  {
   "cell_type": "code",
   "execution_count": 3,
   "id": "derived-treasure",
   "metadata": {},
   "outputs": [],
   "source": [
    "config_map = {\n",
    "    '00': 'KITTI00-02.yaml',\n",
    "    '01': 'KITTI00-02.yaml',\n",
    "    '02': 'KITTI00-02.yaml',\n",
    "    '03': 'KITTI03.yaml',\n",
    "    '04': 'KITTI04-12.yaml',\n",
    "    '05': 'KITTI04-12.yaml',\n",
    "    '06': 'KITTI04-12.yaml',\n",
    "    '07': 'KITTI04-12.yaml',\n",
    "    '08': 'KITTI04-12.yaml',\n",
    "    '09': 'KITTI04-12.yaml',\n",
    "    '10': 'KITTI04-12.yaml',\n",
    "    '11': 'KITTI04-12.yaml',\n",
    "    '12': 'KITTI04-12.yaml',\n",
    "}"
   ]
  },
  {
   "cell_type": "code",
   "execution_count": 4,
   "id": "african-upper",
   "metadata": {},
   "outputs": [],
   "source": [
    "exp_name = 'Intial_test'"
   ]
  },
  {
   "cell_type": "code",
   "execution_count": null,
   "id": "secondary-elements",
   "metadata": {},
   "outputs": [
    {
     "name": "stderr",
     "output_type": "stream",
     "text": [
      "  0%|          | 2/1101 [00:00<01:07, 16.21it/s]"
     ]
    },
    {
     "name": "stdout",
     "output_type": "stream",
     "text": [
      "Folder:  06\n",
      "Processing KITTI Sequence of lenght:  1101\n",
      "using groundtruth:  kitti\n",
      "\u001b[33m WARNING: cannot import SIFT_create from cv2.xfeatures2d, check the file TROUBLESHOOTING.md\n",
      "\u001b[0m\u001b[33m WARNING: cannot import SURF_create from cv2.xfeatures2d, check the file TROUBLESHOOTING.md\n",
      "\u001b[0m\u001b[33m WARNING: cannot import FREAK_create from cv2.xfeatures2d, check the file TROUBLESHOOTING.md\n",
      "\u001b[0m\u001b[33m WARNING: cannot import xfeatures2d_BoostDesc.create from cv2, check the file TROUBLESHOOTING.md\n",
      "\u001b[0m\u001b[33m WARNING: cannot import xfeatures2d_MSDDetector from cv2, check the file TROUBLESHOOTING.md\n",
      "\u001b[0m\u001b[33m WARNING: cannot import xfeatures2d_DAISY.create from cv2, check the file TROUBLESHOOTING.md\n",
      "\u001b[0m\u001b[33m WARNING: cannot import xfeatures2d_StarDetector.create from cv2, check the file TROUBLESHOOTING.md\n",
      "\u001b[0m\u001b[33m WARNING: cannot import xfeatures2d_HarrisLaplaceFeatureDetector.create from cv2, check the file TROUBLESHOOTING.md\n",
      "\u001b[0m\u001b[33m WARNING: cannot import xfeatures2d_LATCH.create from cv2, check the file TROUBLESHOOTING.md\n",
      "\u001b[0m\u001b[33m WARNING: cannot import xfeatures2d_LUCID.create from cv2, check the file TROUBLESHOOTING.md\n",
      "\u001b[0m\u001b[33m WARNING: cannot import xfeatures2d_VGG.create from cv2, check the file TROUBLESHOOTING.md\n",
      "\u001b[0m\u001b[33m WARNING: cannot import xfeatures2d.BEBLID_create from cv2, check the file TROUBLESHOOTING.md\n",
      "\u001b[0m\u001b[33m WARNING: using NON-ORIENTED features:  FAST - NONE  (i.e. kp.angle=0)\n",
      "\u001b[0m\u001b[32m LkFeatureTracker: num levels on LK pyr optic flow:  3\n",
      "\u001b[0m"
     ]
    },
    {
     "name": "stderr",
     "output_type": "stream",
     "text": [
      "100%|██████████| 1101/1101 [02:03<00:00,  8.89it/s]\n",
      "  0%|          | 1/4071 [00:00<08:02,  8.43it/s]"
     ]
    },
    {
     "name": "stdout",
     "output_type": "stream",
     "text": [
      "Folder:  08\n",
      "Processing KITTI Sequence of lenght:  4071\n",
      "using groundtruth:  kitti\n",
      "\u001b[33m WARNING: cannot import SIFT_create from cv2.xfeatures2d, check the file TROUBLESHOOTING.md\n",
      "\u001b[0m\u001b[33m WARNING: cannot import SURF_create from cv2.xfeatures2d, check the file TROUBLESHOOTING.md\n",
      "\u001b[0m\u001b[33m WARNING: cannot import FREAK_create from cv2.xfeatures2d, check the file TROUBLESHOOTING.md\n",
      "\u001b[0m\u001b[33m WARNING: cannot import xfeatures2d_BoostDesc.create from cv2, check the file TROUBLESHOOTING.md\n",
      "\u001b[0m\u001b[33m WARNING: cannot import xfeatures2d_MSDDetector from cv2, check the file TROUBLESHOOTING.md\n",
      "\u001b[0m\u001b[33m WARNING: cannot import xfeatures2d_DAISY.create from cv2, check the file TROUBLESHOOTING.md\n",
      "\u001b[0m\u001b[33m WARNING: cannot import xfeatures2d_StarDetector.create from cv2, check the file TROUBLESHOOTING.md\n",
      "\u001b[0m\u001b[33m WARNING: cannot import xfeatures2d_HarrisLaplaceFeatureDetector.create from cv2, check the file TROUBLESHOOTING.md\n",
      "\u001b[0m\u001b[33m WARNING: cannot import xfeatures2d_LATCH.create from cv2, check the file TROUBLESHOOTING.md\n",
      "\u001b[0m\u001b[33m WARNING: cannot import xfeatures2d_LUCID.create from cv2, check the file TROUBLESHOOTING.md\n",
      "\u001b[0m\u001b[33m WARNING: cannot import xfeatures2d_VGG.create from cv2, check the file TROUBLESHOOTING.md\n",
      "\u001b[0m\u001b[33m WARNING: cannot import xfeatures2d.BEBLID_create from cv2, check the file TROUBLESHOOTING.md\n",
      "\u001b[0m\u001b[33m WARNING: using NON-ORIENTED features:  FAST - NONE  (i.e. kp.angle=0)\n",
      "\u001b[0m\u001b[32m LkFeatureTracker: num levels on LK pyr optic flow:  3\n",
      "\u001b[0m"
     ]
    },
    {
     "name": "stderr",
     "output_type": "stream",
     "text": [
      "100%|██████████| 4071/4071 [07:37<00:00,  8.89it/s]\n",
      "  1%|          | 2/271 [00:00<00:13, 19.85it/s]"
     ]
    },
    {
     "name": "stdout",
     "output_type": "stream",
     "text": [
      "Folder:  04\n",
      "Processing KITTI Sequence of lenght:  271\n",
      "using groundtruth:  kitti\n",
      "\u001b[33m WARNING: cannot import SIFT_create from cv2.xfeatures2d, check the file TROUBLESHOOTING.md\n",
      "\u001b[0m\u001b[33m WARNING: cannot import SURF_create from cv2.xfeatures2d, check the file TROUBLESHOOTING.md\n",
      "\u001b[0m\u001b[33m WARNING: cannot import FREAK_create from cv2.xfeatures2d, check the file TROUBLESHOOTING.md\n",
      "\u001b[0m\u001b[33m WARNING: cannot import xfeatures2d_BoostDesc.create from cv2, check the file TROUBLESHOOTING.md\n",
      "\u001b[0m\u001b[33m WARNING: cannot import xfeatures2d_MSDDetector from cv2, check the file TROUBLESHOOTING.md\n",
      "\u001b[0m\u001b[33m WARNING: cannot import xfeatures2d_DAISY.create from cv2, check the file TROUBLESHOOTING.md\n",
      "\u001b[0m\u001b[33m WARNING: cannot import xfeatures2d_StarDetector.create from cv2, check the file TROUBLESHOOTING.md\n",
      "\u001b[0m\u001b[33m WARNING: cannot import xfeatures2d_HarrisLaplaceFeatureDetector.create from cv2, check the file TROUBLESHOOTING.md\n",
      "\u001b[0m\u001b[33m WARNING: cannot import xfeatures2d_LATCH.create from cv2, check the file TROUBLESHOOTING.md\n",
      "\u001b[0m\u001b[33m WARNING: cannot import xfeatures2d_LUCID.create from cv2, check the file TROUBLESHOOTING.md\n",
      "\u001b[0m\u001b[33m WARNING: cannot import xfeatures2d_VGG.create from cv2, check the file TROUBLESHOOTING.md\n",
      "\u001b[0m\u001b[33m WARNING: cannot import xfeatures2d.BEBLID_create from cv2, check the file TROUBLESHOOTING.md\n",
      "\u001b[0m\u001b[33m WARNING: using NON-ORIENTED features:  FAST - NONE  (i.e. kp.angle=0)\n",
      "\u001b[0m\u001b[32m LkFeatureTracker: num levels on LK pyr optic flow:  3\n",
      "\u001b[0m"
     ]
    },
    {
     "name": "stderr",
     "output_type": "stream",
     "text": [
      "100%|██████████| 271/271 [00:26<00:00, 10.39it/s]\n",
      "  0%|          | 2/1101 [00:00<00:55, 19.77it/s]"
     ]
    },
    {
     "name": "stdout",
     "output_type": "stream",
     "text": [
      "Folder:  07\n",
      "Processing KITTI Sequence of lenght:  1101\n",
      "using groundtruth:  kitti\n",
      "\u001b[33m WARNING: cannot import SIFT_create from cv2.xfeatures2d, check the file TROUBLESHOOTING.md\n",
      "\u001b[0m\u001b[33m WARNING: cannot import SURF_create from cv2.xfeatures2d, check the file TROUBLESHOOTING.md\n",
      "\u001b[0m\u001b[33m WARNING: cannot import FREAK_create from cv2.xfeatures2d, check the file TROUBLESHOOTING.md\n",
      "\u001b[0m\u001b[33m WARNING: cannot import xfeatures2d_BoostDesc.create from cv2, check the file TROUBLESHOOTING.md\n",
      "\u001b[0m\u001b[33m WARNING: cannot import xfeatures2d_MSDDetector from cv2, check the file TROUBLESHOOTING.md\n",
      "\u001b[0m\u001b[33m WARNING: cannot import xfeatures2d_DAISY.create from cv2, check the file TROUBLESHOOTING.md\n",
      "\u001b[0m\u001b[33m WARNING: cannot import xfeatures2d_StarDetector.create from cv2, check the file TROUBLESHOOTING.md\n",
      "\u001b[0m\u001b[33m WARNING: cannot import xfeatures2d_HarrisLaplaceFeatureDetector.create from cv2, check the file TROUBLESHOOTING.md\n",
      "\u001b[0m\u001b[33m WARNING: cannot import xfeatures2d_LATCH.create from cv2, check the file TROUBLESHOOTING.md\n",
      "\u001b[0m\u001b[33m WARNING: cannot import xfeatures2d_LUCID.create from cv2, check the file TROUBLESHOOTING.md\n",
      "\u001b[0m\u001b[33m WARNING: cannot import xfeatures2d_VGG.create from cv2, check the file TROUBLESHOOTING.md\n",
      "\u001b[0m\u001b[33m WARNING: cannot import xfeatures2d.BEBLID_create from cv2, check the file TROUBLESHOOTING.md\n",
      "\u001b[0m\u001b[33m WARNING: using NON-ORIENTED features:  FAST - NONE  (i.e. kp.angle=0)\n",
      "\u001b[0m\u001b[32m LkFeatureTracker: num levels on LK pyr optic flow:  3\n",
      "\u001b[0m"
     ]
    },
    {
     "name": "stderr",
     "output_type": "stream",
     "text": [
      " 26%|██▌       | 289/1101 [00:27<01:11, 11.36it/s]"
     ]
    }
   ],
   "source": [
    "for f in folders:\n",
    "    print('Folder: ',f)\n",
    "    config = Config()\n",
    "    # iterate over all the folders\n",
    "    config.dataset_settings['name'] = f\n",
    "    config.dataset_settings['cam_settings'] = config_map[f]\n",
    "\n",
    "    dataset = dataset_factory(config.dataset_settings)\n",
    "    groundtruth = groundtruth_factory(config.dataset_settings)\n",
    "\n",
    "    cam = PinholeCamera(config.cam_settings['Camera.width'], config.cam_settings['Camera.height'],\n",
    "                        config.cam_settings['Camera.fx'], config.cam_settings['Camera.fy'],\n",
    "                        config.cam_settings['Camera.cx'], config.cam_settings['Camera.cy'],\n",
    "                        config.DistCoef, config.cam_settings['Camera.fps'])\n",
    "\n",
    "    num_features=2000  # how many features do you want to detect and track?\n",
    "\n",
    "    # select your tracker configuration (see the file feature_tracker_configs.py) \n",
    "    # LK_SHI_TOMASI, LK_FAST\n",
    "    # SHI_TOMASI_ORB, FAST_ORB, ORB, BRISK, AKAZE, FAST_FREAK, SIFT, ROOT_SIFT, SURF, SUPERPOINT, FAST_TFEAT\n",
    "    tracker_config = FeatureTrackerConfigs.LK_FAST\n",
    "    tracker_config['num_features'] = num_features\n",
    "\n",
    "    feature_tracker = feature_tracker_factory(**tracker_config)\n",
    "    # create visual odometry object \n",
    "    vo = VisualOdometry(cam, groundtruth, feature_tracker)\n",
    "\n",
    "    # todo: add the trajectory visualization\n",
    "    traj_img_size = 800\n",
    "    traj_img = np.zeros((traj_img_size, traj_img_size, 3), dtype=np.uint8)\n",
    "    half_traj_img_size = int(0.5*traj_img_size)\n",
    "    draw_scale = 1\n",
    "\n",
    "    # second loop for iterating over all the frame\n",
    "    result = []  \n",
    "    for img_id in tqdm(range(dataset.max_frame_id)):\n",
    "        img = dataset.getImage(img_id)\n",
    "        if img is not None:\n",
    "            vo.track(img, img_id)\n",
    "            tmp = np.reshape(np.hstack((vo.cur_R, vo.cur_t)), 12)\n",
    "            result.append(' '.join([str(i) for i in tmp]))\n",
    "\n",
    "    # Save the results in the text files\n",
    "    res_base_path = os.path.join('../data/results/', exp_name)\n",
    "    res_folder_path = os.path.join(res_base_path, f+'.txt')\n",
    "    os.makedirs(res_base_path, exist_ok=True)\n",
    "\n",
    "    txt_file=open(res_folder_path, 'a') \n",
    "    txt_file.writelines(\"%s\\n\" % i for i in result) \n",
    "    txt_file.close() "
   ]
  },
  {
   "cell_type": "code",
   "execution_count": null,
   "id": "arctic-congress",
   "metadata": {},
   "outputs": [],
   "source": []
  }
 ],
 "metadata": {
  "kernelspec": {
   "display_name": "pyslam",
   "language": "python",
   "name": "pyslam"
  },
  "language_info": {
   "codemirror_mode": {
    "name": "ipython",
    "version": 3
   },
   "file_extension": ".py",
   "mimetype": "text/x-python",
   "name": "python",
   "nbconvert_exporter": "python",
   "pygments_lexer": "ipython3",
   "version": "3.8.5"
  }
 },
 "nbformat": 4,
 "nbformat_minor": 5
}
